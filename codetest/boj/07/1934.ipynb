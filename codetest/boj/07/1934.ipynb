{
 "cells": [
  {
   "cell_type": "code",
   "execution_count": 4,
   "id": "2711ab51",
   "metadata": {},
   "outputs": [
    {
     "name": "stdout",
     "output_type": "stream",
     "text": [
      "1\n",
      "6 10\n",
      "30\n"
     ]
    }
   ],
   "source": [
    "## 1934 - 최소공배수\n",
    "n = int(input())\n",
    "for i in range(n):\n",
    "    a,b = map(int,input().split())\n",
    "    for j in range(1,a*b+1):\n",
    "        if j % a == 0 and j% b == 0:\n",
    "            print(j)\n",
    "            break"
   ]
  },
  {
   "cell_type": "code",
   "execution_count": 11,
   "id": "a6eee4a5",
   "metadata": {},
   "outputs": [
    {
     "name": "stdout",
     "output_type": "stream",
     "text": [
      "1\n",
      "6 10\n",
      "30\n"
     ]
    }
   ],
   "source": [
    "## 1934 - 최소공배수 -2 \n",
    "def gcd(x,y):\n",
    "    if y == 0:\n",
    "        return x\n",
    "    else:\n",
    "        return gcd(y,x%y)\n",
    "\n",
    "n = int(input())\n",
    "for i in range(n):\n",
    "    a,b = map(int,input().split())\n",
    "    print((a*b)//gcd(a,b))\n",
    "    \n",
    "    \n",
    "    "
   ]
  },
  {
   "cell_type": "code",
   "execution_count": 6,
   "id": "d286a1dd",
   "metadata": {},
   "outputs": [
    {
     "name": "stdout",
     "output_type": "stream",
     "text": [
      "1\n",
      "6 10\n",
      "30\n"
     ]
    }
   ],
   "source": [
    "## 1934 최소공배수 -sol\n",
    "\n",
    "def gcd(x, y):  #최대공약수 구하기\n",
    "  if y == 0:\n",
    "    return x\n",
    "  else:\n",
    "    return gcd(y, x%y)\n",
    "  \n",
    "def lcm(x, y):  ## 최소공배수 구하기\n",
    "  result = (x*y) // gcd(x,y)\n",
    "  return result\n",
    "\n",
    "num = int(input())\n",
    "\n",
    "for i in range(num):\n",
    "  x, y = map(int, input().split(\" \"))\n",
    "  print(lcm(x, y))"
   ]
  },
  {
   "cell_type": "code",
   "execution_count": 9,
   "id": "e3ccf1cf",
   "metadata": {},
   "outputs": [
    {
     "name": "stdout",
     "output_type": "stream",
     "text": [
      "0 6 10\n",
      "0 10 6\n",
      "0 6 4\n",
      "0 4 2\n"
     ]
    },
    {
     "data": {
      "text/plain": [
       "2"
      ]
     },
     "execution_count": 9,
     "metadata": {},
     "output_type": "execute_result"
    }
   ],
   "source": [
    "\n",
    "\n",
    "def gcd(x, y):  #최대공약수 구하기\n",
    "    cnt = 0\n",
    "    if y == 0:\n",
    "        return x\n",
    "    else:\n",
    "        return gcd(y, x%y)\n",
    "        \n",
    "gcd(6,10)"
   ]
  },
  {
   "cell_type": "code",
   "execution_count": null,
   "id": "25de1d87",
   "metadata": {},
   "outputs": [],
   "source": []
  }
 ],
 "metadata": {
  "kernelspec": {
   "display_name": "Python 3 (ipykernel)",
   "language": "python",
   "name": "python3"
  },
  "language_info": {
   "codemirror_mode": {
    "name": "ipython",
    "version": 3
   },
   "file_extension": ".py",
   "mimetype": "text/x-python",
   "name": "python",
   "nbconvert_exporter": "python",
   "pygments_lexer": "ipython3",
   "version": "3.9.7"
  }
 },
 "nbformat": 4,
 "nbformat_minor": 5
}
