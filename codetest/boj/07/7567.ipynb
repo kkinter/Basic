{
 "cells": [
  {
   "cell_type": "code",
   "execution_count": 3,
   "id": "4401e832",
   "metadata": {},
   "outputs": [
    {
     "name": "stdout",
     "output_type": "stream",
     "text": [
      "()()()))(\n",
      "80\n"
     ]
    }
   ],
   "source": [
    "## 7567 - 그릇\n",
    "\n",
    "s = input()\n",
    "val = 10\n",
    "for i in range(len(s)-1):\n",
    "    if s[i] == s[i+1]:\n",
    "        val += 5\n",
    "    else:\n",
    "        val += 10\n",
    "print(val)\n",
    "        \n",
    "    "
   ]
  },
  {
   "cell_type": "code",
   "execution_count": null,
   "id": "21b2903c",
   "metadata": {},
   "outputs": [],
   "source": []
  }
 ],
 "metadata": {
  "kernelspec": {
   "display_name": "Python 3 (ipykernel)",
   "language": "python",
   "name": "python3"
  },
  "language_info": {
   "codemirror_mode": {
    "name": "ipython",
    "version": 3
   },
   "file_extension": ".py",
   "mimetype": "text/x-python",
   "name": "python",
   "nbconvert_exporter": "python",
   "pygments_lexer": "ipython3",
   "version": "3.9.7"
  }
 },
 "nbformat": 4,
 "nbformat_minor": 5
}
