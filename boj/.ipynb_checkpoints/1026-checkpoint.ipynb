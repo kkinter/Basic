{
 "cells": [
  {
   "cell_type": "code",
   "execution_count": 18,
   "id": "518c6d1f",
   "metadata": {},
   "outputs": [
    {
     "name": "stdout",
     "output_type": "stream",
     "text": [
      "18\n",
      "[2, 1, 3, 0, 4] [0, 1, 1, 1, 6] [2, 7, 8, 3, 1] [1, 1, 0, 1, 6]\n"
     ]
    }
   ],
   "source": [
    "def s(a,b,n):\n",
    "    s_val = 0\n",
    "    for i in range(n):\n",
    "        s_val += a[i]*b[i]\n",
    "    return s_val\n",
    "a = [1,1,1,6,0]\n",
    "b = [2,7,8,3,1]\n",
    "\n",
    "temp_a = [x for x in a]\n",
    "temp_b = [x for x in b]\n",
    "\n",
    "a_index = []\n",
    "b_index = []\n",
    "for j in range(5):\n",
    "    b_index.append((b.index(max(temp_b))))\n",
    "    temp_b.remove(max(temp_b))\n",
    "    \n",
    "for k in range(5):\n",
    "    a_index.append(min(temp_a))\n",
    "    temp_a.remove(min(temp_a))\n",
    "cnt = 0\n",
    "\n",
    "for i in range(5):\n",
    "    a[b_index[i]] = a_index[i]\n",
    "\n",
    "    \n"
   ]
  },
  {
   "cell_type": "code",
   "execution_count": 24,
   "id": "9085f63d",
   "metadata": {},
   "outputs": [
    {
     "name": "stdout",
     "output_type": "stream",
     "text": [
      "5\n",
      "1 2 3 4 5\n",
      "3 3 3 3 0\n",
      "30\n"
     ]
    }
   ],
   "source": [
    "def s(a,b,n):\n",
    "    s_val = 0\n",
    "    for i in range(n):\n",
    "        s_val += a[i]*b[i]\n",
    "    return s_val\n",
    "n = int(input())\n",
    "a = list(map(int,input().split()))\n",
    "b = list(map(int,input().split()))\n",
    "\n",
    "temp_a = [x for x in a]\n",
    "temp_b = [x for x in b]\n",
    "\n",
    "a_index = []\n",
    "b_index = []\n",
    "for j in range(n):\n",
    "    b_index.append((b.index(max(temp_b),j)))\n",
    "    temp_b.remove(max(temp_b))\n",
    "    \n",
    "for k in range(n):\n",
    "    a_index.append(min(temp_a))\n",
    "    temp_a.remove(min(temp_a))\n",
    "\n",
    "for i in range(n):\n",
    "    a[b_index[i]] = a_index[i]\n",
    "\n",
    "print(s(a,b,n))\n",
    "\n",
    "    \n"
   ]
  },
  {
   "cell_type": "code",
   "execution_count": null,
   "id": "f314445a",
   "metadata": {},
   "outputs": [],
   "source": [
    "N = int(input())\n",
    "\n",
    "A = list(map(int, input().split()))\n",
    "B = list(map(int, input().split()))\n",
    "\n",
    "b = sorted(B) #B를 오름차순으로 정렬\n",
    "a = sorted(A, reverse=True) #A는 내림차순 정렬\n",
    "list = [0]*N\n",
    "S=0\n",
    "\n",
    "for i in range(N):\n",
    "        list[B.index(b[i],i)] = a[i]\n",
    "\n",
    "for i in range(N):\n",
    "    S += list[i]* B[i]\n",
    "\n",
    "print (S)"
   ]
  }
 ],
 "metadata": {
  "kernelspec": {
   "display_name": "Python 3 (ipykernel)",
   "language": "python",
   "name": "python3"
  },
  "language_info": {
   "codemirror_mode": {
    "name": "ipython",
    "version": 3
   },
   "file_extension": ".py",
   "mimetype": "text/x-python",
   "name": "python",
   "nbconvert_exporter": "python",
   "pygments_lexer": "ipython3",
   "version": "3.9.7"
  }
 },
 "nbformat": 4,
 "nbformat_minor": 5
}
