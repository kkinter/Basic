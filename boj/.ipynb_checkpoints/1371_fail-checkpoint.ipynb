{
 "cells": [
  {
   "cell_type": "code",
   "execution_count": 7,
   "id": "abf29d2d",
   "metadata": {},
   "outputs": [],
   "source": [
    "import sys\n",
    "li = []\n",
    "while True:\n",
    "    s = sys.stdin.readline().strip()\n",
    "    if not s:\n",
    "        break\n",
    "    li.append(s)\n"
   ]
  },
  {
   "cell_type": "code",
   "execution_count": 8,
   "id": "fbea2d40",
   "metadata": {},
   "outputs": [],
   "source": [
    "import sys\n",
    "a = []\n",
    "while True:\n",
    "    b = sys.stdin.readline().strip()\n",
    "    if not b:\n",
    "        break\n",
    "    a.append(b)"
   ]
  },
  {
   "cell_type": "code",
   "execution_count": null,
   "id": "e58ed0ce",
   "metadata": {},
   "outputs": [],
   "source": [
    "import sys\n",
    "for line in sys.stdin:\n",
    "     s = input()"
   ]
  }
 ],
 "metadata": {
  "kernelspec": {
   "display_name": "Python 3 (ipykernel)",
   "language": "python",
   "name": "python3"
  },
  "language_info": {
   "codemirror_mode": {
    "name": "ipython",
    "version": 3
   },
   "file_extension": ".py",
   "mimetype": "text/x-python",
   "name": "python",
   "nbconvert_exporter": "python",
   "pygments_lexer": "ipython3",
   "version": "3.9.7"
  }
 },
 "nbformat": 4,
 "nbformat_minor": 5
}
