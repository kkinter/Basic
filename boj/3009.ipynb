{
 "cells": [
  {
   "cell_type": "code",
   "execution_count": 4,
   "id": "b70dd6ea",
   "metadata": {},
   "outputs": [
    {
     "name": "stdout",
     "output_type": "stream",
     "text": [
      "30 20\n",
      "10 10\n",
      "10 20\n",
      "30 10\n"
     ]
    }
   ],
   "source": [
    "## 3009 네 번째 점\n",
    "\n",
    "ex1, ey1 = map(int,input().split())\n",
    "ex2, ey2 = map(int,input().split())\n",
    "ex3, ey3 = map(int,input().split())\n",
    "li_x = [ex1,ex2,ex3]\n",
    "li_y = [ey1,ey2,ey3]\n",
    "min_x = min(ex1,ex2,ex3)\n",
    "min_y = min(ey1,ey2,ey3)\n",
    "cntx = 0\n",
    "cnty = 0\n",
    "resx = 0\n",
    "resy = 0\n",
    "for i in li_x:\n",
    "    if min_x == i:\n",
    "        cntx += 1\n",
    "for j in li_y:\n",
    "    if min_y == j:\n",
    "        cnty += 1\n",
    "if cntx == 2:\n",
    "    resx = max(li_x)\n",
    "else:\n",
    "    resx = min_x\n",
    "if cnty == 2:\n",
    "    resy = max(li_y)\n",
    "else:\n",
    "    resy = min_y\n",
    "print(resx,resy)\n",
    "\n"
   ]
  },
  {
   "cell_type": "code",
   "execution_count": 7,
   "id": "774d66e1",
   "metadata": {},
   "outputs": [
    {
     "name": "stdout",
     "output_type": "stream",
     "text": [
      "30 20\n",
      "10 10\n",
      "10 20\n",
      "30 10\n"
     ]
    }
   ],
   "source": [
    "## 3009 네 번째 점 - sol\n",
    "\n",
    "x_li = []\n",
    "y_li = []\n",
    "for i in range(3):\n",
    "    x, y = map(int,input().split())\n",
    "    x_li.append(x)\n",
    "    y_li.append(y)\n",
    "for j in range(3):\n",
    "    if x_li.count(x_li[j]) == 1:\n",
    "        x = x_li[j]\n",
    "    elif y_li.count(y_li[j]) == 1:\n",
    "        y = y_li[j]\n",
    "print(x,y)"
   ]
  },
  {
   "cell_type": "code",
   "execution_count": null,
   "id": "cadf1218",
   "metadata": {},
   "outputs": [],
   "source": []
  }
 ],
 "metadata": {
  "kernelspec": {
   "display_name": "Python 3 (ipykernel)",
   "language": "python",
   "name": "python3"
  },
  "language_info": {
   "codemirror_mode": {
    "name": "ipython",
    "version": 3
   },
   "file_extension": ".py",
   "mimetype": "text/x-python",
   "name": "python",
   "nbconvert_exporter": "python",
   "pygments_lexer": "ipython3",
   "version": "3.9.7"
  }
 },
 "nbformat": 4,
 "nbformat_minor": 5
}
