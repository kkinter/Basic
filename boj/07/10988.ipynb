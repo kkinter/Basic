{
 "cells": [
  {
   "cell_type": "code",
   "execution_count": null,
   "id": "6addceef",
   "metadata": {},
   "outputs": [],
   "source": [
    "## 10988 - 팰린드롬인지 확인하기\n",
    "s = input()\n",
    "if s == s[::-1]:\n",
    "    print(1)\n",
    "else:\n",
    "    print(0)"
   ]
  }
 ],
 "metadata": {
  "kernelspec": {
   "display_name": "Python 3 (ipykernel)",
   "language": "python",
   "name": "python3"
  },
  "language_info": {
   "codemirror_mode": {
    "name": "ipython",
    "version": 3
   },
   "file_extension": ".py",
   "mimetype": "text/x-python",
   "name": "python",
   "nbconvert_exporter": "python",
   "pygments_lexer": "ipython3",
   "version": "3.9.7"
  }
 },
 "nbformat": 4,
 "nbformat_minor": 5
}
