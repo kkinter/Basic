{
 "cells": [
  {
   "cell_type": "code",
   "execution_count": 7,
   "id": "2f0929f2",
   "metadata": {},
   "outputs": [],
   "source": [
    "import sys\n",
    "li = []\n",
    "while True:\n",
    "    s = sys.stdin.readline().strip()\n",
    "    if not s:\n",
    "        break\n",
    "    li.append(s)\n"
   ]
  },
  {
   "cell_type": "code",
   "execution_count": 8,
   "id": "70836f92",
   "metadata": {},
   "outputs": [],
   "source": [
    "import sys\n",
    "a = []\n",
    "while True:\n",
    "    b = sys.stdin.readline().strip()\n",
    "    if not b:\n",
    "        break\n",
    "    a.append(b)"
   ]
  },
  {
   "cell_type": "code",
   "execution_count": 9,
   "id": "addf0ab2",
   "metadata": {},
   "outputs": [],
   "source": [
    "import sys\n",
    "for line in sys.stdin:\n",
    "     s = input()"
   ]
  },
  {
   "cell_type": "code",
   "execution_count": null,
   "id": "65bc7ab6",
   "metadata": {},
   "outputs": [],
   "source": []
  }
 ],
 "metadata": {
  "kernelspec": {
   "display_name": "Python 3 (ipykernel)",
   "language": "python",
   "name": "python3"
  },
  "language_info": {
   "codemirror_mode": {
    "name": "ipython",
    "version": 3
   },
   "file_extension": ".py",
   "mimetype": "text/x-python",
   "name": "python",
   "nbconvert_exporter": "python",
   "pygments_lexer": "ipython3",
   "version": "3.9.7"
  }
 },
 "nbformat": 4,
 "nbformat_minor": 5
}
