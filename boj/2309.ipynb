{
 "cells": [
  {
   "cell_type": "code",
   "execution_count": 38,
   "id": "da6d9c65",
   "metadata": {},
   "outputs": [
    {
     "name": "stdout",
     "output_type": "stream",
     "text": [
      "20\n",
      "7\n",
      "23\n",
      "19\n",
      "10\n",
      "15\n",
      "25\n",
      "8\n",
      "13\n",
      "[7, 8, 10, 13, 19, 20, 23]\n"
     ]
    }
   ],
   "source": [
    "## 2309 일곱 난쟁이\n",
    "li = []\n",
    "\n",
    "for i in range(9):\n",
    "    n = int(input())\n",
    "    li.append(n)\n",
    "\n",
    "\n",
    "temp_li = []\n",
    "is_end = False\n",
    "for j in range(len(li)-1):\n",
    "    for k in range(1,len(li)):\n",
    "        if li[j] + li[k] == sum(li) - 100:\n",
    "            temp_li.append(li[j])\n",
    "            temp_li.append(li[k])\n",
    "            is_end = True\n",
    "        if is_end == True:\n",
    "            break\n",
    "    \n",
    "                      \n",
    "for s in temp_li:\n",
    "    li.remove(s)\n",
    "li.sort()\n",
    "for q in li:\n",
    "    print(q)\n",
    "    \n",
    "\n",
    "        \n",
    "    "
   ]
  },
  {
   "cell_type": "code",
   "execution_count": 37,
   "id": "78c0e01a",
   "metadata": {},
   "outputs": [
    {
     "name": "stdout",
     "output_type": "stream",
     "text": [
      "20\n",
      "7\n",
      "23\n",
      "19\n",
      "10\n",
      "15\n",
      "25\n",
      "8\n",
      "13\n",
      "[7, 7, 7, 7, 7, 8, 8, 8, 8, 8, 10, 10, 10, 10, 10, 13, 13, 13, 13, 13, 15, 15, 15, 15, 19, 19, 19, 19, 19, 20, 20, 20, 20, 20, 23, 23, 23, 23, 23, 25, 25, 25, 25, 20, 7, 23, 19, 10, 15, 25, 8, 13]\n"
     ]
    }
   ],
   "source": [
    "for i in range(9):\n",
    "    n = int(input())\n",
    "    li.append(n)\n",
    "print(li)"
   ]
  },
  {
   "cell_type": "code",
   "execution_count": 39,
   "id": "3d5f6f12",
   "metadata": {
    "scrolled": true
   },
   "outputs": [
    {
     "name": "stdout",
     "output_type": "stream",
     "text": [
      "20\n",
      "7\n",
      "23\n",
      "19\n",
      "10\n",
      "15\n",
      "25\n",
      "8\n",
      "13\n",
      "7\n",
      "8\n",
      "10\n",
      "13\n",
      "19\n",
      "20\n",
      "23\n"
     ]
    }
   ],
   "source": [
    "is_end = False\n",
    "\n",
    "arr = []\n",
    "for _ in range(9):\n",
    "    arr.append(int(input()))\n",
    "arr = sorted(arr)\n",
    "\n",
    "for i in range(len(arr)):\n",
    "    for j in range(i+1,len(arr)):\n",
    "        a, b = arr[i] , arr[j]\n",
    "        if a + b == sum(arr) - 100:\n",
    "            arr.remove(a)\n",
    "            arr.remove(b)\n",
    "            break\n",
    "    if is_end:\n",
    "        break\n",
    "for i in arr:\n",
    "    print(i)"
   ]
  },
  {
   "cell_type": "markdown",
   "id": "df39ccbe",
   "metadata": {},
   "source": [
    "## 2중 for문 브레이크, 리스트 순회 >>\n",
    "``` for i in range(len(arr)):\n",
    "        for j in range(i+1,len(arr)):\n",
    "    is_end = False\n",
    "    if is_end:\n",
    "        break\n",
    "    2중 for문 탈출 시 두개의 for문에 모두 break 를 해야한다. "
   ]
  }
 ],
 "metadata": {
  "kernelspec": {
   "display_name": "Python 3 (ipykernel)",
   "language": "python",
   "name": "python3"
  },
  "language_info": {
   "codemirror_mode": {
    "name": "ipython",
    "version": 3
   },
   "file_extension": ".py",
   "mimetype": "text/x-python",
   "name": "python",
   "nbconvert_exporter": "python",
   "pygments_lexer": "ipython3",
   "version": "3.9.7"
  }
 },
 "nbformat": 4,
 "nbformat_minor": 5
}
